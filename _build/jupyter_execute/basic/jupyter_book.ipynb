{
 "cells": [
  {
   "cell_type": "markdown",
   "id": "46297414",
   "metadata": {},
   "source": [
    "## Publish your book online with GitHub Pages\n",
    "\n",
    "```bash\n",
    "$ ghp-import -n -p -f _build/html\n",
    "```\n",
    "\n",
    "## 创建修改与提交\n",
    "\n",
    "+ 如何创建与提交参考：[Tutorial](https://jupyterbook.org/en/stable/start/create.html)\n",
    "\n",
    "+ 参考Jupyter Book Docs[homepage](https://jupyterbook.org/en/stable/start/build.html)及对应[源码](https://github.com/executablebooks/jupyter-book/blob/master/docs/_toc.yml)更改框架细节。\n",
    "\n",
    "## 一些参考的模板网页\n",
    "\n",
    "+ [Inverse Problems and Imaging](https://tristanvanleeuwen.github.io/IP_and_Im_Lectures/what_is.html)"
   ]
  }
 ],
 "metadata": {
  "jupytext": {
   "text_representation": {
    "extension": ".md",
    "format_name": "myst",
    "format_version": "0.9",
    "jupytext_version": "1.5.2"
   }
  },
  "kernelspec": {
   "display_name": "Python 3",
   "language": "python",
   "name": "python3"
  },
  "language_info": {
   "codemirror_mode": {
    "name": "ipython",
    "version": 3
   },
   "file_extension": ".py",
   "mimetype": "text/x-python",
   "name": "python",
   "nbconvert_exporter": "python",
   "pygments_lexer": "ipython3",
   "version": "3.8.17"
  },
  "source_map": [
   12
  ]
 },
 "nbformat": 4,
 "nbformat_minor": 5
}